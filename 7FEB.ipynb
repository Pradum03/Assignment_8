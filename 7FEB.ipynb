{
 "cells": [
  {
   "cell_type": "markdown",
   "id": "92733606-88f8-4356-bedc-ca0632d623cd",
   "metadata": {},
   "source": [
    "ASSIGNMENT: 8\n",
    "\n",
    "1.\n"
   ]
  },
  {
   "cell_type": "code",
   "execution_count": 7,
   "id": "21b8921e-e4d6-4fa8-9b5c-78f41eb517c9",
   "metadata": {},
   "outputs": [
    {
     "name": "stdin",
     "output_type": "stream",
     "text": [
      "Enter your name:  PraduM@#$3\n"
     ]
    },
    {
     "name": "stdout",
     "output_type": "stream",
     "text": [
      " VALID PASSWORD\n"
     ]
    }
   ],
   "source": [
    "password = input(\"Enter your name: \")\n",
    "c=0\n",
    "d=0\n",
    "x=0\n",
    "w=0\n",
    "for i in password:\n",
    "    if i.isupper():\n",
    "        c=c+1\n",
    "for i in password:\n",
    "    if i.islower():\n",
    "        d=d+1\n",
    "for i in password:\n",
    "    if not i.isalnum() and not i.isspace():\n",
    "        x=x+1\n",
    "for i in password:\n",
    "    if i.isnumeric():\n",
    "        w=w+1\n",
    "    \n",
    "l=len(password)\n",
    "\n",
    "if c>=2 and d>=2 and w>=1 and x==3 and l==10:\n",
    "    print(\" VALID PASSWORD\")\n",
    "else:\n",
    "    print(\"INVALID PASSWORD\") \n"
   ]
  },
  {
   "cell_type": "markdown",
   "id": "198046fa-ed8a-4571-ab7d-186fbc0e7665",
   "metadata": {},
   "source": [
    "2.\n"
   ]
  },
  {
   "cell_type": "markdown",
   "id": "a21b390d-9170-426f-9463-1909155b045d",
   "metadata": {},
   "source": [
    "Check if the string starts with a particular letter\n"
   ]
  },
  {
   "cell_type": "code",
   "execution_count": 2,
   "id": "41ba9030-5af0-4504-9c1c-e9252fa07d91",
   "metadata": {},
   "outputs": [
    {
     "name": "stdin",
     "output_type": "stream",
     "text": [
      "enter the string:  pradum\n"
     ]
    },
    {
     "name": "stdout",
     "output_type": "stream",
     "text": [
      "False\n"
     ]
    }
   ],
   "source": [
    "word= input(\"enter the string: \")\n",
    "starts_with = lambda string, word: string.startswith(word)\n",
    "letter1 = \"a\"\n",
    "print(starts_with(word, letter1)) \n",
    "\n"
   ]
  },
  {
   "cell_type": "markdown",
   "id": "4d0b634e-21c1-4d89-8dc8-3c79ca093625",
   "metadata": {},
   "source": [
    "Sort a list of tuples having fruit names and their quantity. [(\"mango\",99),(\"orange\",80), (\"grapes\", 1000)-"
   ]
  },
  {
   "cell_type": "code",
   "execution_count": 3,
   "id": "8202908c-9192-46a0-a5ba-e2d771c6dad8",
   "metadata": {},
   "outputs": [
    {
     "name": "stdout",
     "output_type": "stream",
     "text": [
      "[('orange', 80), ('mango', 99), ('grapes', 1000)]\n"
     ]
    }
   ],
   "source": [
    "lst= [(\"mango\",99),(\"orange\",80), (\"grapes\", 1000)]\n",
    "sorted_list = sorted(lst, key=lambda x: x[1])\n",
    "print(sorted_list)\n"
   ]
  },
  {
   "cell_type": "markdown",
   "id": "3c056da9-71af-4d7d-aafe-c265c0b268b4",
   "metadata": {},
   "source": [
    "Check if the string is numeric\n"
   ]
  },
  {
   "cell_type": "code",
   "execution_count": 4,
   "id": "cf24ffea-7296-4ce4-b4ad-ef7794356662",
   "metadata": {},
   "outputs": [
    {
     "name": "stdout",
     "output_type": "stream",
     "text": [
      "The string is not numeric\n"
     ]
    }
   ],
   "source": [
    "my_string = \"1234abc5678\"\n",
    "\n",
    "numeric_chars = list(filter(str.isnumeric, my_string))\n",
    "\n",
    "if len(numeric_chars) == len(my_string):\n",
    "    print(\"The string is numeric\")\n",
    "else:\n",
    "    print(\"The string is not numeric\")\n"
   ]
  },
  {
   "cell_type": "markdown",
   "id": "476ecfc3-34a0-4b9d-a205-28b50794185d",
   "metadata": {},
   "source": [
    "Find the squares of numbers from 1 to 10\n"
   ]
  },
  {
   "cell_type": "code",
   "execution_count": 6,
   "id": "4af19f04-078d-4c72-94af-9b320d230c9b",
   "metadata": {},
   "outputs": [
    {
     "name": "stdout",
     "output_type": "stream",
     "text": [
      "[1, 4, 9, 16, 25, 36, 49, 64, 81, 100]\n"
     ]
    }
   ],
   "source": [
    "lst = [1, 2, 3, 4, 5, 6, 7, 8, 9, 10]\n",
    "squared_lst = list(map(lambda x: x*x, lst))\n",
    "print(squared_lst)\n"
   ]
  },
  {
   "cell_type": "markdown",
   "id": "77a0230e-bfbc-400d-a778-bdbb7efa8346",
   "metadata": {},
   "source": [
    " Find the cube root of numbers from 1 to 10\n"
   ]
  },
  {
   "cell_type": "code",
   "execution_count": 8,
   "id": "c03c52a7-b5bc-4224-bb4b-64c135b3dc62",
   "metadata": {},
   "outputs": [
    {
     "name": "stdout",
     "output_type": "stream",
     "text": [
      "[1.0, 1.2599210498948732, 1.4422495703074083, 1.5874010519681994, 1.7099759466766968, 1.8171205928321397, 1.912931182772389, 2.0, 2.080083823051904, 2.154434690031884]\n"
     ]
    }
   ],
   "source": [
    "lst = [1, 2, 3, 4, 5, 6, 7, 8, 9, 10]\n",
    "cube_root = list(map(lambda x: pow(x,1/3), lst))\n",
    "print(cube_root)\n"
   ]
  },
  {
   "cell_type": "markdown",
   "id": "a29492a5-1209-4ec3-aabf-dd89b82ff878",
   "metadata": {},
   "source": [
    "Check if a given number is even\n"
   ]
  },
  {
   "cell_type": "code",
   "execution_count": 10,
   "id": "33305462-8a5f-4ed1-84c8-f908470c4b53",
   "metadata": {},
   "outputs": [
    {
     "name": "stdin",
     "output_type": "stream",
     "text": [
      "enter the number 31\n"
     ]
    },
    {
     "name": "stdout",
     "output_type": "stream",
     "text": [
      "not an even number\n"
     ]
    }
   ],
   "source": [
    "num= int(input(\"enter the number\"))\n",
    "if(num%2==0):\n",
    "    print(\"yes even number\")\n",
    "else:\n",
    "    print(\"not an even number\")"
   ]
  },
  {
   "cell_type": "markdown",
   "id": "c862fbab-106e-4a53-8512-cca5b761e342",
   "metadata": {},
   "source": [
    "Filter odd numbers from the given list\n"
   ]
  },
  {
   "cell_type": "code",
   "execution_count": 12,
   "id": "542617c5-6c5b-4a21-b1f5-1e620edc5505",
   "metadata": {},
   "outputs": [
    {
     "name": "stdout",
     "output_type": "stream",
     "text": [
      "[1, 3, 5, 7, 9]\n"
     ]
    }
   ],
   "source": [
    "lst = [1, 2, 3, 4, 5, 6, 7, 8, 9, 10]\n",
    "odd_num = list(filter(lambda x: x%2!=0, lst))\n",
    "print(odd_num)\n"
   ]
  },
  {
   "cell_type": "markdown",
   "id": "07027297-a2d6-4717-a736-24485ef64d4c",
   "metadata": {},
   "source": [
    " Sort a list of integers into positive and negative integers lists"
   ]
  },
  {
   "cell_type": "code",
   "execution_count": 15,
   "id": "1474081e-ab77-4876-bbee-3e088d9483f1",
   "metadata": {},
   "outputs": [
    {
     "name": "stdout",
     "output_type": "stream",
     "text": [
      "[-5, -4, -3, -2, -1] [0, 1, 2, 3, 4, 5, 6]\n"
     ]
    }
   ],
   "source": [
    "lst= [1,2,3,4,5,6,-1,-2,-3,-4,-5,0]\n",
    "lst1= sorted(list(filter(lambda x:x<0,lst)))\n",
    "lst2= sorted(list(filter(lambda x:x>=0,lst)))\n",
    "\n",
    "print(lst1,lst2)"
   ]
  },
  {
   "cell_type": "code",
   "execution_count": null,
   "id": "7347fcfd-df7c-412f-a4a4-88524f23626d",
   "metadata": {},
   "outputs": [],
   "source": []
  }
 ],
 "metadata": {
  "kernelspec": {
   "display_name": "Python 3 (ipykernel)",
   "language": "python",
   "name": "python3"
  },
  "language_info": {
   "codemirror_mode": {
    "name": "ipython",
    "version": 3
   },
   "file_extension": ".py",
   "mimetype": "text/x-python",
   "name": "python",
   "nbconvert_exporter": "python",
   "pygments_lexer": "ipython3",
   "version": "3.10.8"
  }
 },
 "nbformat": 4,
 "nbformat_minor": 5
}
